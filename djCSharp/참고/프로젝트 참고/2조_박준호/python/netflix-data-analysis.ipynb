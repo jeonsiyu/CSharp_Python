{
 "cells": [
  {
   "cell_type": "code",
   "execution_count": 1,
   "metadata": {},
   "outputs": [
    {
     "data": {
      "application/vnd.jupyter.widget-view+json": {
       "model_id": "92ef4a9148584fddbb3d0cb6f95150c4",
       "version_major": 2,
       "version_minor": 0
      },
      "text/plain": [
       "interactive(children=(Dropdown(description='Select plot:', options=('Distribution of Users by Country', 'Distr…"
      ]
     },
     "metadata": {},
     "output_type": "display_data"
    },
    {
     "data": {
      "text/plain": [
       "<function __main__.plot(option)>"
      ]
     },
     "execution_count": 1,
     "metadata": {},
     "output_type": "execute_result"
    }
   ],
   "source": [
    "import pandas as pd\n",
    "import matplotlib.pyplot as plt\n",
    "import seaborn as sns\n",
    "import ipywidgets as widgets\n",
    "from IPython.display import display\n",
    "\n",
    "# Load the data\n",
    "df = pd.read_csv('data/data (1).csv')\n",
    "\n",
    "# Load CSV files into DataFrames\n",
    "countries_df = pd.read_csv('data/countries.csv')\n",
    "devices_df = pd.read_csv('data/devices.csv')\n",
    "genders_df = pd.read_csv('data/genders.csv')\n",
    "genres_df = pd.read_csv('data/genres.csv')\n",
    "subscription_types_df = pd.read_csv('data/subscription_types.csv')\n",
    "\n",
    "# Create dictionaries to map IDs to names\n",
    "id_to_country = pd.Series(countries_df.name.values, index=countries_df.id).to_dict()\n",
    "id_to_device = pd.Series(devices_df.name.values, index=devices_df.id).to_dict()\n",
    "id_to_gender = pd.Series(genders_df.name.values, index=genders_df.id).to_dict()\n",
    "id_to_genre = pd.Series(genres_df.name.values, index=genres_df.id).to_dict()\n",
    "id_to_subscription_type = pd.Series(subscription_types_df.name.values, index=subscription_types_df.id).to_dict()\n",
    "\n",
    "# Replace IDs with names in the main DataFrame\n",
    "df['country'] = df['country'].map(id_to_country)\n",
    "df['device'] = df['device'].map(id_to_device)\n",
    "df['gender'] = df['gender'].map(id_to_gender)\n",
    "df['preferred_genre'] = df['preferred_genre'].map(id_to_genre)\n",
    "df['subscription_type'] = df['subscription_type'].map(id_to_subscription_type)\n",
    "\n",
    "\n",
    "# Convert date columns to datetime\n",
    "df['birth_date'] = pd.to_datetime(df['birth_date'])\n",
    "df['join_date'] = pd.to_datetime(df['join_date'])\n",
    "df['last_payment_date'] = pd.to_datetime(df['last_payment_date'])\n",
    "\n",
    "# Calculate age\n",
    "df['age'] = (pd.to_datetime('2023-06-30') - df['birth_date']).dt.days // 365\n",
    "\n",
    "# Create a column for last payment year and month\n",
    "df['last_payment_year_month'] = df['last_payment_date'].dt.to_period('M')\n",
    "\n",
    "# Function to plot\n",
    "def plot(option):\n",
    "    plt.figure(figsize=(10, 6))\n",
    "    if option == 'Distribution of Users by Country':\n",
    "        sns.countplot(data=df, x='country')\n",
    "    elif option == 'Distribution of Users by Gender':\n",
    "        sns.countplot(data=df, x='gender')\n",
    "    elif option == 'Distribution of Users by Device':\n",
    "        sns.countplot(data=df, x='device')\n",
    "    elif option == 'Distribution of Users by Subscription Type':\n",
    "        sns.countplot(data=df, x='subscription_type')\n",
    "    elif option == 'Distribution of Average Watch Time':\n",
    "        sns.histplot(data=df, x='average_watch_time', bins=30)\n",
    "    elif option == 'Distribution of Age':\n",
    "        sns.histplot(data=df, x='age', bins=30)\n",
    "    elif option == 'Number of Cancellations Over Time':\n",
    "        cancellations = df[df['last_payment_date'] < pd.to_datetime('2023-06-01')].groupby('last_payment_year_month').size()\n",
    "        cancellations.plot(kind='line')\n",
    "        plt.xlabel('Last Payment Year and Month')\n",
    "        plt.ylabel('Number of Cancellations')\n",
    "    plt.title(option)\n",
    "    plt.show()\n",
    "\n",
    "# Create a dropdown menu\n",
    "dropdown = widgets.Dropdown(\n",
    "    options=['Distribution of Users by Country', 'Distribution of Users by Gender', 'Distribution of Users by Device', 'Distribution of Users by Subscription Type', 'Distribution of Average Watch Time', 'Distribution of Age', 'Number of Cancellations Over Time'],\n",
    "    description='Select plot:',\n",
    ")\n",
    "\n",
    "# Use the plot function when the dropdown value changes\n",
    "widgets.interact(plot, option=dropdown)\n"
   ]
  }
 ],
 "metadata": {
  "kernelspec": {
   "display_name": "python-b9npLL1e",
   "language": "python",
   "name": "python3"
  },
  "language_info": {
   "codemirror_mode": {
    "name": "ipython",
    "version": 3
   },
   "file_extension": ".py",
   "mimetype": "text/x-python",
   "name": "python",
   "nbconvert_exporter": "python",
   "pygments_lexer": "ipython3",
   "version": "3.11.4"
  },
  "orig_nbformat": 4
 },
 "nbformat": 4,
 "nbformat_minor": 2
}
